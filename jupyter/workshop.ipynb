{
 "cells": [
  {
   "cell_type": "code",
   "execution_count": 1,
   "id": "d08c3fdf",
   "metadata": {},
   "outputs": [
    {
     "name": "stdout",
     "output_type": "stream",
     "text": [
      "Collecting OWSLib\n",
      "  Using cached OWSLib-0.26.0-py2.py3-none-any.whl (217 kB)\n",
      "Requirement already satisfied: python-dateutil>=1.5 in ./jupyter_notebook/lib/python3.8/site-packages (from OWSLib) (2.8.2)\n",
      "Collecting pyyaml\n",
      "  Using cached PyYAML-6.0-cp38-cp38-manylinux_2_5_x86_64.manylinux1_x86_64.manylinux_2_12_x86_64.manylinux2010_x86_64.whl (701 kB)\n",
      "Collecting pytz\n",
      "  Using cached pytz-2022.1-py2.py3-none-any.whl (503 kB)\n",
      "Collecting requests>=1.0\n",
      "  Using cached requests-2.28.1-py3-none-any.whl (62 kB)\n",
      "Collecting pyproj<3.3.0\n",
      "  Using cached pyproj-3.2.1-cp38-cp38-manylinux2010_x86_64.whl (6.3 MB)\n",
      "Requirement already satisfied: six>=1.5 in ./jupyter_notebook/lib/python3.8/site-packages (from python-dateutil>=1.5->OWSLib) (1.16.0)\n",
      "Collecting idna<4,>=2.5\n",
      "  Using cached idna-3.3-py3-none-any.whl (61 kB)\n",
      "Collecting certifi>=2017.4.17\n",
      "  Using cached certifi-2022.6.15-py3-none-any.whl (160 kB)\n",
      "Collecting urllib3<1.27,>=1.21.1\n",
      "  Using cached urllib3-1.26.10-py2.py3-none-any.whl (139 kB)\n",
      "Collecting charset-normalizer<3,>=2\n",
      "  Using cached charset_normalizer-2.1.0-py3-none-any.whl (39 kB)\n",
      "Installing collected packages: pyyaml, pytz, idna, certifi, urllib3, charset-normalizer, requests, pyproj, OWSLib\n",
      "Successfully installed OWSLib-0.26.0 certifi-2022.6.15 charset-normalizer-2.1.0 idna-3.3 pyproj-3.2.1 pytz-2022.1 pyyaml-6.0 requests-2.28.1 urllib3-1.26.10\n"
     ]
    }
   ],
   "source": [
    "!pip install OWSLib"
   ]
  },
  {
   "cell_type": "markdown",
   "id": "58a0f19e",
   "metadata": {},
   "source": [
    "# OGC APIs\n",
    "Access OGC API Features from eMOTIONAL Cities"
   ]
  },
  {
   "cell_type": "code",
   "execution_count": 2,
   "id": "e08e07d5",
   "metadata": {},
   "outputs": [],
   "source": [
    " from owslib.ogcapi.features import Features"
   ]
  },
  {
   "cell_type": "code",
   "execution_count": 3,
   "id": "75b89fff",
   "metadata": {},
   "outputs": [],
   "source": [
    "w = Features('https://emotional.byteroad.net/')"
   ]
  },
  {
   "cell_type": "code",
   "execution_count": 4,
   "id": "c64baf6e",
   "metadata": {},
   "outputs": [
    {
     "data": {
      "text/plain": [
       "'https://emotional.byteroad.net/'"
      ]
     },
     "execution_count": 4,
     "metadata": {},
     "output_type": "execute_result"
    }
   ],
   "source": [
    "w.url"
   ]
  },
  {
   "cell_type": "code",
   "execution_count": 7,
   "id": "34486826",
   "metadata": {},
   "outputs": [],
   "source": [
    "collections = w.collections()"
   ]
  },
  {
   "cell_type": "code",
   "execution_count": 8,
   "id": "4ad846a4",
   "metadata": {},
   "outputs": [
    {
     "data": {
      "text/plain": [
       "7"
      ]
     },
     "execution_count": 8,
     "metadata": {},
     "output_type": "execute_result"
    }
   ],
   "source": [
    "len(collections['collections'])"
   ]
  },
  {
   "cell_type": "code",
   "execution_count": 9,
   "id": "b5e0ba5b",
   "metadata": {},
   "outputs": [],
   "source": [
    "feature_collections = w.feature_collections()"
   ]
  },
  {
   "cell_type": "code",
   "execution_count": 10,
   "id": "4eff1795",
   "metadata": {},
   "outputs": [
    {
     "data": {
      "text/plain": [
       "['activity_level_ldn',\n",
       " 'cardivasular_disease_ldn',\n",
       " 'tweet_count_sample',\n",
       " 'masked',\n",
       " 'byteroad-workshop']"
      ]
     },
     "execution_count": 10,
     "metadata": {},
     "output_type": "execute_result"
    }
   ],
   "source": [
    "feature_collections"
   ]
  },
  {
   "cell_type": "code",
   "execution_count": 13,
   "id": "18cf60ca",
   "metadata": {},
   "outputs": [],
   "source": [
    "masked = w.collection('masked')"
   ]
  },
  {
   "cell_type": "code",
   "execution_count": 14,
   "id": "f85d26b8",
   "metadata": {},
   "outputs": [
    {
     "data": {
      "text/plain": [
       "'Example features'"
      ]
     },
     "execution_count": 14,
     "metadata": {},
     "output_type": "execute_result"
    }
   ],
   "source": [
    "masked['title']"
   ]
  },
  {
   "cell_type": "code",
   "execution_count": 15,
   "id": "6eea109b",
   "metadata": {},
   "outputs": [
    {
     "data": {
      "text/plain": [
       "'Tech demo data from eMOTIONAL Cities with Tiles.'"
      ]
     },
     "execution_count": 15,
     "metadata": {},
     "output_type": "execute_result"
    }
   ],
   "source": [
    "masked['description']"
   ]
  },
  {
   "cell_type": "code",
   "execution_count": 16,
   "id": "9d90314d",
   "metadata": {},
   "outputs": [],
   "source": [
    "masked_queryables = w.collection_queryables('masked')"
   ]
  },
  {
   "cell_type": "code",
   "execution_count": 17,
   "id": "22f38e12",
   "metadata": {},
   "outputs": [
    {
     "data": {
      "text/plain": [
       "{'type': 'object',\n",
       " 'title': 'Example features',\n",
       " 'properties': {'geometry': {'$ref': 'https://geojson.org/schema/Geometry.json'},\n",
       "  'Humidity_percentageRH': {'title': 'Humidity_percentageRH',\n",
       "   'type': 'string'},\n",
       "  'MRT': {'title': 'MRT', 'type': 'string'},\n",
       "  'UTCI': {'title': 'UTCI', 'type': 'string'},\n",
       "  'co2_concentration_ppm': {'title': 'co2_concentration_ppm',\n",
       "   'type': 'string'},\n",
       "  'datetime': {'title': 'datetime', 'type': 'string'},\n",
       "  'decibel_dB': {'title': 'decibel_dB', 'type': 'string'},\n",
       "  'fid': {'title': 'fid', 'type': 'string'},\n",
       "  'nameascii': {'title': 'nameascii', 'type': 'string'},\n",
       "  'pm_concentration_pm100_micrograms_cube_meters': {'title': 'pm_concentration_pm100_micrograms_cube_meters',\n",
       "   'type': 'string'},\n",
       "  'pm_concentration_pm10_micrograms_cube_meters': {'title': 'pm_concentration_pm10_micrograms_cube_meters',\n",
       "   'type': 'string'},\n",
       "  'pm_concentration_pm25_micrograms_cube_meters': {'title': 'pm_concentration_pm25_micrograms_cube_meters',\n",
       "   'type': 'string'},\n",
       "  'pm_count_greater03um_nan': {'title': 'pm_count_greater03um_nan',\n",
       "   'type': 'string'},\n",
       "  'pm_count_greater05um_nan': {'title': 'pm_count_greater05um_nan',\n",
       "   'type': 'string'},\n",
       "  'pm_count_greater100um_nan': {'title': 'pm_count_greater100um_nan',\n",
       "   'type': 'string'},\n",
       "  'pm_count_greater10um_nan': {'title': 'pm_count_greater10um_nan',\n",
       "   'type': 'string'},\n",
       "  'pm_count_greater25um_nan': {'title': 'pm_count_greater25um_nan',\n",
       "   'type': 'string'},\n",
       "  'pm_count_greater50um_nan': {'title': 'pm_count_greater50um_nan',\n",
       "   'type': 'string'},\n",
       "  's1_Temperature_Celsius': {'title': 's1_Temperature_Celsius',\n",
       "   'type': 'string'},\n",
       "  's2_Temperature_Celsius': {'title': 's2_Temperature_Celsius',\n",
       "   'type': 'string'},\n",
       "  's3_Temperature_Celsius': {'title': 's3_Temperature_Celsius',\n",
       "   'type': 'string'},\n",
       "  'speed_meters_per_hour': {'title': 'speed_meters_per_hour',\n",
       "   'type': 'string'}},\n",
       " '$schema': 'http://json-schema.org/draft/2019-09/schema',\n",
       " '$id': 'https://emotional.byteroad.net/collections/masked/queryables'}"
      ]
     },
     "execution_count": 17,
     "metadata": {},
     "output_type": "execute_result"
    }
   ],
   "source": [
    "masked_queryables"
   ]
  },
  {
   "cell_type": "code",
   "execution_count": 20,
   "id": "22b3445e",
   "metadata": {},
   "outputs": [],
   "source": [
    "masked_items = w.collection_items('masked')"
   ]
  },
  {
   "cell_type": "code",
   "execution_count": 21,
   "id": "75fd694d",
   "metadata": {},
   "outputs": [
    {
     "data": {
      "text/plain": [
       "{'type': 'FeatureCollection',\n",
       " 'features': [{'type': 'Feature',\n",
       "   'properties': {'datetime': '2022-02-28T09:28:39',\n",
       "    'speed_meters_per_hour': '272.0',\n",
       "    's1_Temperature_Celsius': '23.43',\n",
       "    'decibel_dB': '55.9',\n",
       "    'pm_concentration_pm100_micrograms_cube_meters': '15.0',\n",
       "    'pm_concentration_pm10_micrograms_cube_meters': '10.0',\n",
       "    'pm_concentration_pm25_micrograms_cube_meters': '15.0',\n",
       "    'pm_count_greater03um_nan': '1923.0',\n",
       "    'pm_count_greater05um_nan': '543.0',\n",
       "    'pm_count_greater100um_nan': '0.0',\n",
       "    'pm_count_greater10um_nan': '81.0',\n",
       "    'pm_count_greater25um_nan': '8.0',\n",
       "    'pm_count_greater50um_nan': '0.0',\n",
       "    's2_Temperature_Celsius': '23.24',\n",
       "    'co2_concentration_ppm': '550.0',\n",
       "    'Humidity_percentageRH': '71.195',\n",
       "    's3_Temperature_Celsius': '23.86',\n",
       "    'MRT': '26.32775546261064',\n",
       "    'UTCI': '25.5',\n",
       "    'fid': '61657bf8051f4c3da9c44878653783'},\n",
       "   'geometry': {'type': 'Point',\n",
       "    'coordinates': [-9.1251593, 38.71440719999999]},\n",
       "   'id': '61657bf8051f4c3da9c44878653783'},\n",
       "  {'type': 'Feature',\n",
       "   'properties': {'datetime': '2022-02-28T09:28:40',\n",
       "    'speed_meters_per_hour': '288.0',\n",
       "    's1_Temperature_Celsius': '23.43',\n",
       "    'decibel_dB': '49.8',\n",
       "    'pm_concentration_pm100_micrograms_cube_meters': '15.0',\n",
       "    'pm_concentration_pm10_micrograms_cube_meters': '10.0',\n",
       "    'pm_concentration_pm25_micrograms_cube_meters': '15.0',\n",
       "    'pm_count_greater03um_nan': '1923.0',\n",
       "    'pm_count_greater05um_nan': '543.0',\n",
       "    'pm_count_greater100um_nan': '0.0',\n",
       "    'pm_count_greater10um_nan': '81.0',\n",
       "    'pm_count_greater25um_nan': '8.0',\n",
       "    'pm_count_greater50um_nan': '0.0',\n",
       "    's2_Temperature_Celsius': '23.24',\n",
       "    'co2_concentration_ppm': '448.0',\n",
       "    'Humidity_percentageRH': '71.21',\n",
       "    's3_Temperature_Celsius': '23.92',\n",
       "    'MRT': '26.725469656240023',\n",
       "    'UTCI': '25.7',\n",
       "    'fid': 'a7df1d335f894e7482632721a8e92e'},\n",
       "   'geometry': {'type': 'Point',\n",
       "    'coordinates': [-9.1251593, 38.71440719999999]},\n",
       "   'id': 'a7df1d335f894e7482632721a8e92e'},\n",
       "  {'type': 'Feature',\n",
       "   'properties': {'datetime': '2022-02-28T09:28:41',\n",
       "    'speed_meters_per_hour': '322.0',\n",
       "    's1_Temperature_Celsius': '23.34',\n",
       "    'decibel_dB': '54.8',\n",
       "    'pm_concentration_pm100_micrograms_cube_meters': '15.0',\n",
       "    'pm_concentration_pm10_micrograms_cube_meters': '10.0',\n",
       "    'pm_concentration_pm25_micrograms_cube_meters': '15.0',\n",
       "    'pm_count_greater03um_nan': '1833.0',\n",
       "    'pm_count_greater05um_nan': '518.0',\n",
       "    'pm_count_greater100um_nan': '0.0',\n",
       "    'pm_count_greater10um_nan': '75.0',\n",
       "    'pm_count_greater25um_nan': '11.0',\n",
       "    'pm_count_greater50um_nan': '0.0',\n",
       "    's2_Temperature_Celsius': '23.23',\n",
       "    'co2_concentration_ppm': '448.0',\n",
       "    'Humidity_percentageRH': '71.21',\n",
       "    's3_Temperature_Celsius': '23.92',\n",
       "    'MRT': '27.232541872730735',\n",
       "    'UTCI': '25.8',\n",
       "    'fid': '935d5f22ed8b44ca90466bd7847de1'},\n",
       "   'geometry': {'type': 'Point',\n",
       "    'coordinates': [-9.1251593, 38.71440719999999]},\n",
       "   'id': '935d5f22ed8b44ca90466bd7847de1'},\n",
       "  {'type': 'Feature',\n",
       "   'properties': {'datetime': '2022-02-28T09:28:42',\n",
       "    'speed_meters_per_hour': '303.0',\n",
       "    's1_Temperature_Celsius': '23.34',\n",
       "    'decibel_dB': '52.6',\n",
       "    'pm_concentration_pm100_micrograms_cube_meters': '15.0',\n",
       "    'pm_concentration_pm10_micrograms_cube_meters': '10.0',\n",
       "    'pm_concentration_pm25_micrograms_cube_meters': '14.0',\n",
       "    'pm_count_greater03um_nan': '1833.0',\n",
       "    'pm_count_greater05um_nan': '518.0',\n",
       "    'pm_count_greater100um_nan': '0.0',\n",
       "    'pm_count_greater10um_nan': '75.0',\n",
       "    'pm_count_greater25um_nan': '11.0',\n",
       "    'pm_count_greater50um_nan': '0.0',\n",
       "    's2_Temperature_Celsius': '23.23',\n",
       "    'co2_concentration_ppm': '454.0',\n",
       "    'Humidity_percentageRH': '71.63',\n",
       "    's3_Temperature_Celsius': '23.87',\n",
       "    'MRT': '26.902902194531634',\n",
       "    'UTCI': '25.7',\n",
       "    'fid': 'c0a5d3592a024c45b95a43bc00c15a'},\n",
       "   'geometry': {'type': 'Point',\n",
       "    'coordinates': [-9.1251593, 38.71440719999999]},\n",
       "   'id': 'c0a5d3592a024c45b95a43bc00c15a'},\n",
       "  {'type': 'Feature',\n",
       "   'properties': {'datetime': '2022-02-28T09:28:43',\n",
       "    'speed_meters_per_hour': '335.0',\n",
       "    's1_Temperature_Celsius': '23.35',\n",
       "    'decibel_dB': '53.5',\n",
       "    'pm_concentration_pm100_micrograms_cube_meters': '14.0',\n",
       "    'pm_concentration_pm10_micrograms_cube_meters': '9.0',\n",
       "    'pm_concentration_pm25_micrograms_cube_meters': '14.0',\n",
       "    'pm_count_greater03um_nan': '1803.0',\n",
       "    'pm_count_greater05um_nan': '503.0',\n",
       "    'pm_count_greater100um_nan': '0.0',\n",
       "    'pm_count_greater10um_nan': '69.0',\n",
       "    'pm_count_greater25um_nan': '10.0',\n",
       "    'pm_count_greater50um_nan': '0.0',\n",
       "    's2_Temperature_Celsius': '23.23',\n",
       "    'co2_concentration_ppm': '454.0',\n",
       "    'Humidity_percentageRH': '71.63',\n",
       "    's3_Temperature_Celsius': '23.87',\n",
       "    'MRT': '26.84649810774141',\n",
       "    'UTCI': '25.7',\n",
       "    'fid': 'fc21882a304a44d7bcd2839f38dbd7'},\n",
       "   'geometry': {'type': 'Point',\n",
       "    'coordinates': [-9.1251593, 38.71440719999999]},\n",
       "   'id': 'fc21882a304a44d7bcd2839f38dbd7'},\n",
       "  {'type': 'Feature',\n",
       "   'properties': {'datetime': '2022-02-28T09:28:44',\n",
       "    'speed_meters_per_hour': '351.0',\n",
       "    's1_Temperature_Celsius': '23.36',\n",
       "    'decibel_dB': '51.9',\n",
       "    'pm_concentration_pm100_micrograms_cube_meters': '14.0',\n",
       "    'pm_concentration_pm10_micrograms_cube_meters': '9.0',\n",
       "    'pm_concentration_pm25_micrograms_cube_meters': '14.0',\n",
       "    'pm_count_greater03um_nan': '1803.0',\n",
       "    'pm_count_greater05um_nan': '503.0',\n",
       "    'pm_count_greater100um_nan': '0.0',\n",
       "    'pm_count_greater10um_nan': '69.0',\n",
       "    'pm_count_greater25um_nan': '10.0',\n",
       "    'pm_count_greater50um_nan': '0.0',\n",
       "    's2_Temperature_Celsius': '23.23',\n",
       "    'co2_concentration_ppm': '490.0',\n",
       "    'Humidity_percentageRH': '71.84',\n",
       "    's3_Temperature_Celsius': '23.82',\n",
       "    'MRT': '26.458959228309027',\n",
       "    'UTCI': '25.6',\n",
       "    'fid': '66e6cc06b7a140f0901e0935146f1f'},\n",
       "   'geometry': {'type': 'Point',\n",
       "    'coordinates': [-9.1251593, 38.71440719999999]},\n",
       "   'id': '66e6cc06b7a140f0901e0935146f1f'},\n",
       "  {'type': 'Feature',\n",
       "   'properties': {'datetime': '2022-02-28T09:28:45',\n",
       "    'speed_meters_per_hour': '331.0',\n",
       "    's1_Temperature_Celsius': '23.36',\n",
       "    'decibel_dB': '58.3',\n",
       "    'pm_concentration_pm100_micrograms_cube_meters': '15.0',\n",
       "    'pm_concentration_pm10_micrograms_cube_meters': '10.0',\n",
       "    'pm_concentration_pm25_micrograms_cube_meters': '14.0',\n",
       "    'pm_count_greater03um_nan': '1941.0',\n",
       "    'pm_count_greater05um_nan': '537.0',\n",
       "    'pm_count_greater100um_nan': '0.0',\n",
       "    'pm_count_greater10um_nan': '73.0',\n",
       "    'pm_count_greater25um_nan': '7.0',\n",
       "    'pm_count_greater50um_nan': '0.0',\n",
       "    's2_Temperature_Celsius': '23.23',\n",
       "    'co2_concentration_ppm': '490.0',\n",
       "    'Humidity_percentageRH': '71.84',\n",
       "    's3_Temperature_Celsius': '23.82',\n",
       "    'MRT': '26.458959228309027',\n",
       "    'UTCI': '25.6',\n",
       "    'fid': 'a347d493a1ee4a359436f6cb04848b'},\n",
       "   'geometry': {'type': 'Point',\n",
       "    'coordinates': [-9.1251593, 38.71440719999999]},\n",
       "   'id': 'a347d493a1ee4a359436f6cb04848b'},\n",
       "  {'type': 'Feature',\n",
       "   'properties': {'datetime': '2022-02-28T09:28:46',\n",
       "    'speed_meters_per_hour': '357.0',\n",
       "    's1_Temperature_Celsius': '23.35',\n",
       "    'decibel_dB': '54.349999999999994',\n",
       "    'pm_concentration_pm100_micrograms_cube_meters': '15.0',\n",
       "    'pm_concentration_pm10_micrograms_cube_meters': '10.0',\n",
       "    'pm_concentration_pm25_micrograms_cube_meters': '14.0',\n",
       "    'pm_count_greater03um_nan': '1941.0',\n",
       "    'pm_count_greater05um_nan': '537.0',\n",
       "    'pm_count_greater100um_nan': '0.0',\n",
       "    'pm_count_greater10um_nan': '73.0',\n",
       "    'pm_count_greater25um_nan': '7.0',\n",
       "    'pm_count_greater50um_nan': '0.0',\n",
       "    's2_Temperature_Celsius': '23.23',\n",
       "    'co2_concentration_ppm': '436.0',\n",
       "    'Humidity_percentageRH': '71.96',\n",
       "    's3_Temperature_Celsius': '23.86',\n",
       "    'MRT': '26.78040235424743',\n",
       "    'UTCI': '25.7',\n",
       "    'fid': '084392cda6634a50ba1cabd3032e3f'},\n",
       "   'geometry': {'type': 'Point',\n",
       "    'coordinates': [-9.1251593, 38.71440719999999]},\n",
       "   'id': '084392cda6634a50ba1cabd3032e3f'},\n",
       "  {'type': 'Feature',\n",
       "   'properties': {'datetime': '2022-02-28T09:28:47',\n",
       "    'speed_meters_per_hour': '461.0',\n",
       "    's1_Temperature_Celsius': '23.27',\n",
       "    'decibel_dB': '50.4',\n",
       "    'pm_concentration_pm100_micrograms_cube_meters': '13.0',\n",
       "    'pm_concentration_pm10_micrograms_cube_meters': '9.0',\n",
       "    'pm_concentration_pm25_micrograms_cube_meters': '13.0',\n",
       "    'pm_count_greater03um_nan': '1902.0',\n",
       "    'pm_count_greater05um_nan': '517.0',\n",
       "    'pm_count_greater100um_nan': '0.0',\n",
       "    'pm_count_greater10um_nan': '69.0',\n",
       "    'pm_count_greater25um_nan': '7.0',\n",
       "    'pm_count_greater50um_nan': '0.0',\n",
       "    's2_Temperature_Celsius': '23.23',\n",
       "    'co2_concentration_ppm': '436.0',\n",
       "    'Humidity_percentageRH': '71.96',\n",
       "    's3_Temperature_Celsius': '23.86',\n",
       "    'MRT': '27.23107138519231',\n",
       "    'UTCI': '25.8',\n",
       "    'fid': '225558dce45e499ab5861950b09dba'},\n",
       "   'geometry': {'type': 'Point',\n",
       "    'coordinates': [-9.1251593, 38.71440719999999]},\n",
       "   'id': '225558dce45e499ab5861950b09dba'},\n",
       "  {'type': 'Feature',\n",
       "   'properties': {'datetime': '2022-02-28T09:28:48',\n",
       "    'speed_meters_per_hour': '490.0',\n",
       "    's1_Temperature_Celsius': '23.25',\n",
       "    'decibel_dB': '53.2',\n",
       "    'pm_concentration_pm100_micrograms_cube_meters': '13.0',\n",
       "    'pm_concentration_pm10_micrograms_cube_meters': '9.0',\n",
       "    'pm_concentration_pm25_micrograms_cube_meters': '13.0',\n",
       "    'pm_count_greater03um_nan': '1896.0',\n",
       "    'pm_count_greater05um_nan': '502.0',\n",
       "    'pm_count_greater100um_nan': '0.0',\n",
       "    'pm_count_greater10um_nan': '65.0',\n",
       "    'pm_count_greater25um_nan': '6.0',\n",
       "    'pm_count_greater50um_nan': '0.0',\n",
       "    's2_Temperature_Celsius': '23.23',\n",
       "    'co2_concentration_ppm': '417.0',\n",
       "    'Humidity_percentageRH': '72.12',\n",
       "    's3_Temperature_Celsius': '23.87',\n",
       "    'MRT': '27.40915709095873',\n",
       "    'UTCI': '25.9',\n",
       "    'fid': '85b79fbfeb674a05b61043cfcc6a35'},\n",
       "   'geometry': {'type': 'Point',\n",
       "    'coordinates': [-9.1251593, 38.71440719999999]},\n",
       "   'id': '85b79fbfeb674a05b61043cfcc6a35'}],\n",
       " 'numberMatched': 5773,\n",
       " 'numberReturned': 10,\n",
       " 'links': [{'type': 'application/geo+json',\n",
       "   'rel': 'self',\n",
       "   'title': 'This document as GeoJSON',\n",
       "   'href': 'https://emotional.byteroad.net/collections/masked/items?f=json'},\n",
       "  {'rel': 'alternate',\n",
       "   'type': 'application/ld+json',\n",
       "   'title': 'This document as RDF (JSON-LD)',\n",
       "   'href': 'https://emotional.byteroad.net/collections/masked/items?f=jsonld'},\n",
       "  {'type': 'text/html',\n",
       "   'rel': 'alternate',\n",
       "   'title': 'This document as HTML',\n",
       "   'href': 'https://emotional.byteroad.net/collections/masked/items?f=html'},\n",
       "  {'type': 'application/geo+json',\n",
       "   'rel': 'next',\n",
       "   'title': 'items (next)',\n",
       "   'href': 'https://emotional.byteroad.net/collections/masked/items?offset=10'},\n",
       "  {'type': 'application/json',\n",
       "   'title': 'Example features',\n",
       "   'rel': 'collection',\n",
       "   'href': 'https://emotional.byteroad.net/collections/masked/items'}],\n",
       " 'timeStamp': '2022-07-22T08:23:05.713605Z'}"
      ]
     },
     "execution_count": 21,
     "metadata": {},
     "output_type": "execute_result"
    }
   ],
   "source": [
    "masked_items"
   ]
  },
  {
   "cell_type": "code",
   "execution_count": 22,
   "id": "a000d38f",
   "metadata": {},
   "outputs": [
    {
     "data": {
      "text/plain": [
       "{'datetime': '2022-02-28T09:28:39',\n",
       " 'speed_meters_per_hour': '272.0',\n",
       " 's1_Temperature_Celsius': '23.43',\n",
       " 'decibel_dB': '55.9',\n",
       " 'pm_concentration_pm100_micrograms_cube_meters': '15.0',\n",
       " 'pm_concentration_pm10_micrograms_cube_meters': '10.0',\n",
       " 'pm_concentration_pm25_micrograms_cube_meters': '15.0',\n",
       " 'pm_count_greater03um_nan': '1923.0',\n",
       " 'pm_count_greater05um_nan': '543.0',\n",
       " 'pm_count_greater100um_nan': '0.0',\n",
       " 'pm_count_greater10um_nan': '81.0',\n",
       " 'pm_count_greater25um_nan': '8.0',\n",
       " 'pm_count_greater50um_nan': '0.0',\n",
       " 's2_Temperature_Celsius': '23.24',\n",
       " 'co2_concentration_ppm': '550.0',\n",
       " 'Humidity_percentageRH': '71.195',\n",
       " 's3_Temperature_Celsius': '23.86',\n",
       " 'MRT': '26.32775546261064',\n",
       " 'UTCI': '25.5',\n",
       " 'fid': '61657bf8051f4c3da9c44878653783'}"
      ]
     },
     "execution_count": 22,
     "metadata": {},
     "output_type": "execute_result"
    }
   ],
   "source": [
    "masked_items['features'][0]['properties']"
   ]
  },
  {
   "cell_type": "code",
   "execution_count": 23,
   "id": "02dde68c",
   "metadata": {},
   "outputs": [
    {
     "data": {
      "text/plain": [
       "{'type': 'Point', 'coordinates': [-9.1251593, 38.71440719999999]}"
      ]
     },
     "execution_count": 23,
     "metadata": {},
     "output_type": "execute_result"
    }
   ],
   "source": [
    "masked_items['features'][0]['geometry']"
   ]
  },
  {
   "cell_type": "code",
   "execution_count": null,
   "id": "df5a4c3b",
   "metadata": {},
   "outputs": [],
   "source": []
  }
 ],
 "metadata": {
  "kernelspec": {
   "display_name": "Python 3 (ipykernel)",
   "language": "python",
   "name": "python3"
  },
  "language_info": {
   "codemirror_mode": {
    "name": "ipython",
    "version": 3
   },
   "file_extension": ".py",
   "mimetype": "text/x-python",
   "name": "python",
   "nbconvert_exporter": "python",
   "pygments_lexer": "ipython3",
   "version": "3.8.10"
  }
 },
 "nbformat": 4,
 "nbformat_minor": 5
}
